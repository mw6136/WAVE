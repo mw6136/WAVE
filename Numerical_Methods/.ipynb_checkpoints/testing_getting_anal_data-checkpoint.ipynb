{
 "cells": [
  {
   "cell_type": "code",
   "execution_count": 5,
   "id": "facff10a",
   "metadata": {},
   "outputs": [],
   "source": [
    "from astropy.io import ascii\n",
    "import numpy as np\n",
    "\n",
    "############# doc ############\n",
    "\"\"\"\n",
    "The result of this code is 6 np arrays: `times`, `rs_linspace`, `thetas_linspace`,\n",
    "`rs`, `thetas`, and `Z`, as well as the variable N.\n",
    "\n",
    "No variables are hardcoded in this (execept the relative paths).\n",
    "You may need to change the path below if something moves directories or changes names.\n",
    "\n",
    "`times` is a 1D array containing the time values at which the fuinction was evaluated\n",
    "\n",
    "`N` is the number of points that both 0 ≤ r ≤ 1 and 0 ≤ theta ≤ 2pi are discretized into\n",
    "\n",
    "`rs` and `thetas` are N by N arrays that are the result of:\n",
    "    rs_linspace = np.linspace(0,1,N)\n",
    "    thetas_linspace = np.linspace(0,2*np.pi,N)\n",
    "\n",
    "    [thetas,rs] = meshgrid(thetas_linspace,rs_linspace);\n",
    "\n",
    "`Z` is a 3D array (N by N by len(times)) and is indexed as Z[r_index,theta_index,time]\n",
    "where, for example, if you do Z[5,0,3], you will get the Z value at rs_linspace[5], thetas_linspace[0],\n",
    "and times[3].\n",
    "\"\"\"\n",
    "\n",
    "def get_anal_data():\n",
    "    # relative paths to the analytical data (except Z)\n",
    "    times_ascii = ascii.read(\"../Analytical_Solution/data/times.txt\")\n",
    "    r_ascii = ascii.read(\"../Analytical_Solution/data/r_data.txt\")\n",
    "    theta_ascii = ascii.read(\"../Analytical_Solution/data/theta_data.txt\")\n",
    "\n",
    "    # Convert table to dataframe (except Z)\n",
    "    times_data_frame = times_ascii.to_pandas()\n",
    "    r_data_frame = r_ascii.to_pandas()\n",
    "    theta_data_frame = theta_ascii.to_pandas()\n",
    "\n",
    "\n",
    "    # Convert the dataframe to an np array (except Z)\n",
    "    times = np.array(times_data_frame.values)\n",
    "    rs = np.array(r_data_frame.values)\n",
    "    thetas = np.array(theta_data_frame.values)\n",
    "\n",
    "    # obtaining N\n",
    "    N = np.shape(rs)[0]\n",
    "\n",
    "    # make linspaces\n",
    "    rs_linspace = np.linspace(0,1,N)\n",
    "    thetas_linspace = np.linspace(0,2*np.pi,N)\n",
    "\n",
    "    # fixing the weird formatting of times\n",
    "    times = times[0]\n",
    "\n",
    "    # getting the Z data\n",
    "    Z = np.zeros([N,N,len(times)])\n",
    "    for i in list(range(len(times))):\n",
    "        i += 1\n",
    "        Zi_ascii = ascii.read(\"../Analytical_Solution/data/Z\" + str(i) + \".txt\")\n",
    "        Zi_data_frame = Zi_ascii.to_pandas()\n",
    "        Zi = np.array(Zi_data_frame.values)\n",
    "        Z[:,:,i-1] = Zi\n",
    "        \n",
    "    return N,times,rs_linspace,thetas_linspace,rs,thetas,Z"
   ]
  },
  {
   "cell_type": "code",
   "execution_count": 8,
   "id": "c15d451c",
   "metadata": {},
   "outputs": [],
   "source": [
    "N,times,rs_linspace,thetas_linspace,rs,thetas,Z = get_anal_data()"
   ]
  },
  {
   "cell_type": "code",
   "execution_count": 9,
   "id": "dda95a49",
   "metadata": {},
   "outputs": [
    {
     "data": {
      "text/plain": [
       "200"
      ]
     },
     "execution_count": 9,
     "metadata": {},
     "output_type": "execute_result"
    }
   ],
   "source": [
    "N"
   ]
  },
  {
   "cell_type": "code",
   "execution_count": null,
   "id": "13aeb8a6",
   "metadata": {},
   "outputs": [],
   "source": []
  }
 ],
 "metadata": {
  "kernelspec": {
   "display_name": "Python 3 (ipykernel)",
   "language": "python",
   "name": "python3"
  },
  "language_info": {
   "codemirror_mode": {
    "name": "ipython",
    "version": 3
   },
   "file_extension": ".py",
   "mimetype": "text/x-python",
   "name": "python",
   "nbconvert_exporter": "python",
   "pygments_lexer": "ipython3",
   "version": "3.11.5"
  }
 },
 "nbformat": 4,
 "nbformat_minor": 5
}
