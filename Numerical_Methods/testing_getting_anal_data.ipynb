{
 "cells": [
  {
   "cell_type": "code",
   "execution_count": 5,
   "id": "360965d6",
   "metadata": {},
   "outputs": [],
   "source": [
    "from astropy.io import ascii\n",
    "import numpy as np\n",
    "\n",
    "############# doc ############\n",
    "\"\"\"\n",
    "The result of this code is 6 np arrays: `times`, `rs_linspace`, `thetas_linspace`,\n",
    "`rs`, `thetas`, and `Z`, as well as the variable N.\n",
    "\n",
    "No variables are hardcoded in this (execept the relative paths).\n",
    "You may need to change the path below if something moves directories or changes names.\n",
    "\n",
    "`times` is a 1D array containing the time values at which the fuinction was evaluated\n",
    "\n",
    "`N` is the number of points that both 0 ≤ r ≤ 1 and 0 ≤ theta ≤ 2pi are discretized into\n",
    "\n",
    "`rs` and `thetas` are N by N arrays that are the result of:\n",
    "    rs_linspace = np.linspace(0,1,N)\n",
    "    thetas_linspace = np.linspace(0,2*np.pi,N)\n",
    "\n",
    "    [thetas,rs] = meshgrid(thetas_linspace,rs_linspace);\n",
    "\n",
    "`Z` is a 3D array (N by N by len(times)) and is indexed as Z[r_index,theta_index,time]\n",
    "where, for example, if you do Z[5,0,3], you will get the Z value at rs_linspace[5], thetas_linspace[0],\n",
    "and times[3].\n",
    "\"\"\"\n",
    "\n",
    "def get_anal_data():\n",
    "    # relative paths to the analytical data (except Z)\n",
    "    times_ascii = ascii.read(\"../Analytical_Solution/data/times.txt\")\n",
    "    r_ascii = ascii.read(\"../Analytical_Solution/data/r_data.txt\")\n",
    "    theta_ascii = ascii.read(\"../Analytical_Solution/data/theta_data.txt\")\n",
    "\n",
    "    # Convert table to dataframe (except Z)\n",
    "    times_data_frame = times_ascii.to_pandas()\n",
    "    r_data_frame = r_ascii.to_pandas()\n",
    "    theta_data_frame = theta_ascii.to_pandas()\n",
    "\n",
    "\n",
    "    # Convert the dataframe to an np array (except Z)\n",
    "    times = np.array(times_data_frame.values)\n",
    "    rs = np.array(r_data_frame.values)\n",
    "    thetas = np.array(theta_data_frame.values)\n",
    "\n",
    "    # obtaining N\n",
    "    N = np.shape(rs)[0]\n",
    "\n",
    "    # make linspaces\n",
    "    rs_linspace = np.linspace(0,1,N)\n",
    "    thetas_linspace = np.linspace(0,2*np.pi,N)\n",
    "\n",
    "    # fixing the weird formatting of times\n",
    "    times = times[0]\n",
    "\n",
    "    # getting the Z data\n",
    "    Z = np.zeros([N,N,len(times)])\n",
    "    for i in list(range(len(times))):\n",
    "        i += 1\n",
    "        Zi_ascii = ascii.read(\"../Analytical_Solution/data/Z\" + str(i) + \".txt\")\n",
    "        Zi_data_frame = Zi_ascii.to_pandas()\n",
    "        Zi = np.array(Zi_data_frame.values)\n",
    "        Z[:,:,i-1] = Zi\n",
    "        \n",
    "    return N,times,rs_linspace,thetas_linspace,rs,thetas,Z"
   ]
  },
  {
   "cell_type": "code",
   "execution_count": 8,
   "id": "67fde8bf",
   "metadata": {},
   "outputs": [],
   "source": [
    "N,times,rs_linspace,thetas_linspace,rs,thetas,Z = get_anal_data()"
   ]
  },
  {
   "cell_type": "code",
   "execution_count": 13,
   "id": "6cfd8a8e",
   "metadata": {},
   "outputs": [
    {
     "data": {
      "text/plain": [
       "array([[ 0.        ,  0.        ,  0.        , ...,  0.        ,\n",
       "         0.        ,  0.        ],\n",
       "       [-0.03917083, -0.03915131, -0.03909276, ..., -0.03909276,\n",
       "        -0.03915131, -0.03917083],\n",
       "       [-0.05100899, -0.05098357, -0.05090732, ..., -0.05090732,\n",
       "        -0.05098357, -0.05100899],\n",
       "       ...,\n",
       "       [-0.02585374, -0.02584085, -0.0258022 , ..., -0.0258022 ,\n",
       "        -0.02584085, -0.02585374],\n",
       "       [ 0.39525402,  0.39505702,  0.39446622, ...,  0.39446622,\n",
       "         0.39505702,  0.39525402],\n",
       "       [ 0.99999784,  0.99949943,  0.9980047 , ...,  0.9980047 ,\n",
       "         0.99949943,  0.99999784]])"
      ]
     },
     "execution_count": 13,
     "metadata": {},
     "output_type": "execute_result"
    }
   ],
   "source": [
    "Z[:,:,0]"
   ]
  },
  {
   "cell_type": "code",
   "execution_count": 15,
   "id": "c63384b8",
   "metadata": {},
   "outputs": [
    {
     "data": {
      "text/plain": [
       "0.5"
      ]
     },
     "execution_count": 15,
     "metadata": {},
     "output_type": "execute_result"
    }
   ],
   "source": [
    "times[-1]"
   ]
  }
 ],
 "metadata": {
  "kernelspec": {
   "display_name": "Python 3 (ipykernel)",
   "language": "python",
   "name": "python3"
  },
  "language_info": {
   "codemirror_mode": {
    "name": "ipython",
    "version": 3
   },
   "file_extension": ".py",
   "mimetype": "text/x-python",
   "name": "python",
   "nbconvert_exporter": "python",
   "pygments_lexer": "ipython3",
   "version": "3.11.5"
  }
 },
 "nbformat": 4,
 "nbformat_minor": 5
}
